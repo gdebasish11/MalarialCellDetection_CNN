{
  "nbformat": 4,
  "nbformat_minor": 0,
  "metadata": {
    "colab": {
      "provenance": [],
      "authorship_tag": "ABX9TyOjdOAXIPqtTx/3R6vJwUmz",
      "include_colab_link": true
    },
    "kernelspec": {
      "name": "python3",
      "display_name": "Python 3"
    },
    "language_info": {
      "name": "python"
    },
    "accelerator": "GPU",
    "gpuClass": "standard"
  },
  "cells": [
    {
      "cell_type": "markdown",
      "metadata": {
        "id": "view-in-github",
        "colab_type": "text"
      },
      "source": [
        "<a href=\"https://colab.research.google.com/github/gdebasish11/MalarialCellDetection_CNN/blob/main/MalarialCellDetection_ResNet.ipynb\" target=\"_parent\"><img src=\"https://colab.research.google.com/assets/colab-badge.svg\" alt=\"Open In Colab\"/></a>"
      ]
    },
    {
      "cell_type": "code",
      "execution_count": 1,
      "metadata": {
        "id": "Hik8NH6-D5BB"
      },
      "outputs": [],
      "source": [
        "##Datasource: https://lhncbc.nlm.nih.gov/publication/pub9932\n",
        "\n",
        "import pandas as pd\n",
        "import numpy as np\n",
        "import matplotlib.pyplot as plt\n",
        "import os\n",
        "import cv2\n",
        "from PIL import Image\n",
        "import tensorflow as tf\n",
        "from tensorflow import keras as tfk"
      ]
    },
    {
      "cell_type": "code",
      "source": [
        "from google.colab import drive\n",
        "drive.mount('/content/drive')"
      ],
      "metadata": {
        "id": "Bw2ykEVvKMTK",
        "colab": {
          "base_uri": "https://localhost:8080/"
        },
        "outputId": "45baffaf-80f9-455d-8377-299861827971"
      },
      "execution_count": 2,
      "outputs": [
        {
          "output_type": "stream",
          "name": "stdout",
          "text": [
            "Mounted at /content/drive\n"
          ]
        }
      ]
    },
    {
      "cell_type": "code",
      "source": [
        "SIZE = 64\n",
        "dataset = []  \n",
        "label = []"
      ],
      "metadata": {
        "id": "aJE9lxJpTifd"
      },
      "execution_count": 3,
      "outputs": []
    },
    {
      "cell_type": "code",
      "source": [
        "## define path for parasitized images\n",
        "parasitized_images = os.listdir(\"/content/drive/MyDrive/MalarialCellDetection_CNN/Paratizd_New\")"
      ],
      "metadata": {
        "id": "LpY8EdDExWsy"
      },
      "execution_count": 4,
      "outputs": []
    },
    {
      "cell_type": "code",
      "source": [
        "imge1=\"/content/drive/MyDrive/MalarialCellDetection_CNN/Paratizd_New/C33P1thinF_IMG_20150619_114756a_cell_179.png\"\n",
        "image = cv2.imread(imge1)\n",
        "img = Image.fromarray(image)\n",
        "print('before size ')\n",
        "print(img.size)\n",
        "img = img.resize((SIZE, SIZE))\n",
        "print('after size ')\n",
        "print(img.size)\n",
        "plt.imshow(img)"
      ],
      "metadata": {
        "colab": {
          "base_uri": "https://localhost:8080/",
          "height": 355
        },
        "id": "-BocAS9BibCi",
        "outputId": "99acc1d2-5e36-48e7-a77b-c481a60b6772"
      },
      "execution_count": 5,
      "outputs": [
        {
          "output_type": "stream",
          "name": "stdout",
          "text": [
            "before size \n",
            "(142, 163)\n",
            "after size \n",
            "(64, 64)\n"
          ]
        },
        {
          "output_type": "execute_result",
          "data": {
            "text/plain": [
              "<matplotlib.image.AxesImage at 0x7f6e5c9b66a0>"
            ]
          },
          "metadata": {},
          "execution_count": 5
        },
        {
          "output_type": "display_data",
          "data": {
            "text/plain": [
              "<Figure size 432x288 with 1 Axes>"
            ],
            "image/png": "[encoded data removed]"
          },
          "metadata": {
            "needs_background": "light"
          }
        }
      ]
    },
    {
      "cell_type": "code",
      "source": [
        "for i, image_name in enumerate(parasitized_images):      \n",
        "    if (image_name.split('.')[1] == 'png' and i<7000):\n",
        "        image = cv2.imread('/content/drive/MyDrive/MalarialCellDetection_CNN/Paratizd_New/' + image_name)\n",
        "        image = Image.fromarray(image, 'RGB')\n",
        "        image = image.resize((SIZE, SIZE))\n",
        "        dataset.append(np.array(image))\n",
        "        label.append(0)"
      ],
      "metadata": {
        "id": "_U9C2MtnxrOb"
      },
      "execution_count": 6,
      "outputs": []
    },
    {
      "cell_type": "code",
      "source": [
        "#dataset.shape,label.shape\n",
        "len(dataset),len(label)"
      ],
      "metadata": {
        "colab": {
          "base_uri": "https://localhost:8080/"
        },
        "id": "JUhgchoe4s-R",
        "outputId": "256bcbb9-7a05-40c0-d38d-22db316b3e32"
      },
      "execution_count": 7,
      "outputs": [
        {
          "output_type": "execute_result",
          "data": {
            "text/plain": [
              "(1188, 1188)"
            ]
          },
          "metadata": {},
          "execution_count": 7
        }
      ]
    },
    {
      "cell_type": "code",
      "source": [
        "uninfected_images = os.listdir(\"/content/drive/MyDrive/MalarialCellDetection_CNN/Uninfected_New\")"
      ],
      "metadata": {
        "id": "AjWT_W47O57U"
      },
      "execution_count": 8,
      "outputs": []
    },
    {
      "cell_type": "code",
      "source": [
        "for i, image_name in enumerate(uninfected_images):  \n",
        "    \n",
        "    if (image_name.split('.')[1] == 'png' and i<7000):\n",
        "        image = cv2.imread('/content/drive/MyDrive/MalarialCellDetection_CNN/Uninfected_New/' + image_name)\n",
        "        image = Image.fromarray(image, 'RGB')\n",
        "        image = image.resize((SIZE, SIZE))\n",
        "        dataset.append(np.array(image))\n",
        "        label.append(1)"
      ],
      "metadata": {
        "id": "BhP2nzS6O3dw"
      },
      "execution_count": 9,
      "outputs": []
    },
    {
      "cell_type": "code",
      "source": [
        "len(dataset),len(label)"
      ],
      "metadata": {
        "colab": {
          "base_uri": "https://localhost:8080/"
        },
        "id": "tqZ7csi26rAt",
        "outputId": "8c9c2e15-3e3e-4e95-827c-23b0336d5a81"
      },
      "execution_count": 10,
      "outputs": [
        {
          "output_type": "execute_result",
          "data": {
            "text/plain": [
              "(2299, 2299)"
            ]
          },
          "metadata": {},
          "execution_count": 10
        }
      ]
    },
    {
      "cell_type": "code",
      "source": [
        "##  see one image\n",
        "plt.figure()\n",
        "plt.imshow(dataset[2000])\n",
        "plt.colorbar()\n",
        "plt.grid(False)\n",
        "plt.show()"
      ],
      "metadata": {
        "id": "QeqDsK0nEUmT",
        "colab": {
          "base_uri": "https://localhost:8080/",
          "height": 268
        },
        "outputId": "856d233a-d5ed-4db3-d523-c336d28d0fc7"
      },
      "execution_count": 11,
      "outputs": [
        {
          "output_type": "display_data",
          "data": {
            "text/plain": [
              "<Figure size 432x288 with 2 Axes>"
            ],
            "image/png": "[encoded data removed]"
          },
          "metadata": {
            "needs_background": "light"
          }
        }
      ]
    },
    {
      "cell_type": "code",
      "source": [
        "\n",
        "def Toy_ResNet():\n",
        "  SHAPE=64\n",
        "  i\n",
        "  x=tf.keras.layers.Conv2D(32,3,activation=\"relu\")(inputs)\n",
        "  x=tf.keras.layers.Conv2D(64,3,activation=\"relu\")(x)\n",
        "  Block1_Output=tf.keras.layers.MaxPooling2D(3)(x)\n",
        "\n",
        "  x = tf.keras.layers.Conv2D(64, 3, activation='relu', padding='same')(Block1_Output)\n",
        "  x = tf.keras.layers.Conv2D(64, 3, activation='relu', padding='same')(x)\n",
        "  Block2_Output = tf.keras.layers.add([x, Block1_Output])\n",
        "\n",
        "  x = tf.keras.layers.Conv2D(64, 3, activation='relu', padding='same')(Block2_Output)\n",
        "  x = tf.keras.layers.Conv2D(64, 3, activation='relu', padding='same')(x)\n",
        "  Block3_Output = tf.keras.layers.add([x, Block2_Output])\n",
        "\n",
        "  x = tf.keras.layers.Conv2D(64, 3, activation='relu')(Block3_Output)\n",
        "  x = tf.keras.layers.GlobalAveragePooling2D()(x)\n",
        "  x = tf.keras.layers.Dense(256, activation='relu')(x)\n",
        "  x = tf.keras.layers.Dropout(0.5)(x)\n",
        "  outputs = tf.keras.layers.Dense(2,activation='sigmoid')(x)\n",
        "\n",
        "  model=tf.keras.Model(inputs,outputs,name='MalariaCell')\n",
        "  return model"
      ],
      "metadata": {
        "id": "8yeDRQrwFh8Y"
      },
      "execution_count": 12,
      "outputs": []
    },
    {
      "cell_type": "code",
      "source": [
        "## ***********define identity block for Resnet 34*********\n",
        "# def identity_block(x,filters):\n",
        "#   x_skip=x\n",
        "#   # Layer 1\n",
        "#   x=tf.keras.layers.Conv2D(filters,(3,3),padding='same')(x)\n",
        "#   x=tf.keras.layers.BatchNormalization(axis=3)(x)\n",
        "#   x=tf.keras.layers.Activation('relu')(x)\n",
        "\n",
        "#   # Layer 2\n",
        "#   x=tf.keras.layers.Conv2D(filters,(3,3),padding='same')(x)\n",
        "#   x=tf.keras.layers.BatchNormalization(axis=3)(x)\n",
        "\n",
        "#   ## skip connection\n",
        "#   x=tf.keras.layers.Add()([x,x_skip])\n",
        "\n",
        "#   x=tf.keras.layers.Activation('relu')(x)\n",
        "#   return x"
      ],
      "metadata": {
        "id": "ws51cqNupnJe"
      },
      "execution_count": 13,
      "outputs": []
    },
    {
      "cell_type": "code",
      "source": [
        "## ***********define convolution block Resnet_34*********\n",
        "# def convolution_block(x,filters):\n",
        "#   x_skip=x\n",
        "#   # Layer 1\n",
        "#   x=tf.keras.layers.Conv2D(filters,(3,3),padding='same')(x)\n",
        "#   x=tf.keras.layers.BatchNormalization(axis=3)(x)\n",
        "#   x=tf.keras.layers.Activation('relu')(x)\n",
        "\n",
        "#   # Layer 2\n",
        "#   x=tf.keras.layers.Conv2D(filters,(3,3),padding='same')(x)\n",
        "#   x=tf.keras.layers.BatchNormalization(axis=3)(x)\n",
        "\n",
        "#   ## convolution layer\n",
        "#   x_skip=tf.keras.layers.Conv2D(filters,(1,1), strides = (2,2))(x_skip)\n",
        "\n",
        "#   ## skip connection\n",
        "#   x=tf.keras.layers.Add()([x,x_skip])\n",
        "\n",
        "#   x=tf.keras.layers.Activation('relu')(x)\n",
        "#   return x"
      ],
      "metadata": {
        "id": "30XaTYf5q3rH"
      },
      "execution_count": 14,
      "outputs": []
    },
    {
      "cell_type": "code",
      "source": [
        "## ***********define identity block for Resnet 50*********\n",
        "\n",
        "def identity_block_Resnet50(x,filters):  \n",
        "    F1,F2,F3=filters  ## F1=64,F2=64,F3=256 for first block ,F1=128,F2=128,F3=512 for 2nd block\n",
        "    x_skip=x\n",
        "    #Layer 1\n",
        "    x=tf.keras.layers.Conv2D(filters=F1,kernel_size=(1,1),padding='valid',strides=(1,1))(x)\n",
        "    x=tf.keras.layers.BatchNormalization(axis=3)(x)\n",
        "    x=tf.keras.layers.Activation('relu')(x)\n",
        "    #Layer 2\n",
        "    x=tf.keras.layers.Conv2D(filters=F2,kernel_size=(3,3),padding='same',strides=(1,1))(x)\n",
        "    x=tf.keras.layers.BatchNormalization(axis=3)(x)\n",
        "    x=tf.keras.layers.Activation('relu')(x)\n",
        "    #Layer 3\n",
        "    x=tf.keras.layers.Conv2D(filters=F3,kernel_size=(1,1),padding='valid',strides=(1,1))(x)\n",
        "    x=tf.keras.layers.BatchNormalization(axis=3)(x)\n",
        "    print('before add')\n",
        "    x=tf.keras.layers.Add()([x,x_skip])\n",
        "    print('after add')\n",
        "    x=tf.keras.layers.Activation('relu')(x)\n",
        "    return x\n",
        "  "
      ],
      "metadata": {
        "id": "Fv9IfNMs5pjk"
      },
      "execution_count": 15,
      "outputs": []
    },
    {
      "cell_type": "code",
      "source": [
        "## ***********define convolution block Resnet_50*********\n",
        "def convolution_block_Resnet_50(x,filters,s=2):\n",
        "    F1,F2,F3=filters  ## F1=64,F2=64,F3=256 for first block ,F1=128,F2=128,F3=512 for 2nd block\n",
        "    x_skip=x\n",
        "    #Layer 1\n",
        "    x=tf.keras.layers.Conv2D(filters=F1,kernel_size=(1,1),padding='valid',strides=(s,s))(x)\n",
        "    x=tf.keras.layers.BatchNormalization(axis=3)(x)\n",
        "    x=tf.keras.layers.Activation('relu')(x)\n",
        "    #Layer 2\n",
        "    x=tf.keras.layers.Conv2D(filters=F2,kernel_size=(3,3),padding='same',strides=(1,1))(x)\n",
        "    x=tf.keras.layers.BatchNormalization(axis=3)(x)\n",
        "    x=tf.keras.layers.Activation('relu')(x)\n",
        "    #Layer 3\n",
        "    x=tf.keras.layers.Conv2D(filters=F3,kernel_size=(1,1),padding='valid',strides=(1,1))(x)\n",
        "    x=tf.keras.layers.BatchNormalization(axis=3)(x)\n",
        "    x=tf.keras.layers.Activation('relu')(x)\n",
        "    #Add convolution to x_skip \n",
        "    x_skip=tf.keras.layers.Conv2D(filters=F3, kernel_size=(1,1), strides = (2,2))(x_skip)\n",
        "    x_skip=tf.keras.layers.BatchNormalization(axis=3)(x_skip) \n",
        "    ## skip connection\n",
        "    x=tf.keras.layers.Add()([x,x_skip])\n",
        "\n",
        "    x=tf.keras.layers.Activation('relu')(x)\n",
        "    return x\n",
        "  \n"
      ],
      "metadata": {
        "id": "AHCX1g1f9798"
      },
      "execution_count": 16,
      "outputs": []
    },
    {
      "cell_type": "code",
      "source": [
        "#***********Define Resnet50 main block*********\n",
        "def Resnet_50_Custom(classes=2):\n",
        "  try:\n",
        "    SHAPE=64\n",
        "    x_inputs=tf.keras.Input(shape=(SHAPE,SHAPE,3),name=\"input_image\")\n",
        "    x = tf.keras.layers.ZeroPadding2D((3, 3))(x_inputs)\n",
        "\n",
        "    # (Initial Conv layer along with maxPool)\n",
        "    x=tf.keras.layers.Conv2D(64,(7,7),padding='same',strides=2)(x)\n",
        "    x=tf.keras.layers.BatchNormalization(axis=3)(x)\n",
        "    x=tf.keras.layers.Activation('relu')(x)\n",
        "    x=tf.keras.layers.MaxPool2D(pool_size=3, strides=2, padding='same')(x)\n",
        "    print(x.shape)\n",
        "    x = tf.keras.layers.Conv2D(64, (1, 1), strides = (2,2))(x)\n",
        "    x = tf.keras.layers.Conv2D(64, kernel_size = (3,3), strides = (1,1), padding = 'same')(x)\n",
        "    x = tf.keras.layers.Conv2D(256, (1, 1), strides = (1,1))(x)\n",
        "\n",
        "    # Define size of sub-blocks and initial filter size\n",
        "    block_sizes=[3,4,6,3]\n",
        "    fiter_num=64\n",
        "\n",
        "    # Add the Resnet Blocks\n",
        "    for i in range(4):\n",
        "      if i==0:\n",
        "      # For sub-block 1 Convolutional block not needed\n",
        "        for j in range(block_sizes[i]):\n",
        "          #x=identity_block(x,fiter_num) ## For Resnet34\n",
        "          x=identity_block_Resnet50(x,filters=(64,64,256)) ## For Resnet50\n",
        "      else:\n",
        "        # One Convolutional Block followed by Identity blocks\n",
        "        # The filter size will go on increasing by a factor of 2\n",
        "        fiter_num=fiter_num*2\n",
        "        x=convolution_block_Resnet_50(x,filters=(fiter_num,fiter_num,fiter_num*4))\n",
        "        for j in range(block_sizes[i]-1):\n",
        "          #x=identity_block(x,fiter_num) ## For Resnet34\n",
        "          x=identity_block_Resnet50(x,filters=(fiter_num,fiter_num,fiter_num*4)) ## For Resnet50\n",
        "\n",
        "    # Dense Network\n",
        "      x = tf.keras.layers.AveragePooling2D((2,2), padding = 'same')(x)\n",
        "      x = tf.keras.layers.Flatten()(x)\n",
        "      x = tf.keras.layers.Dense(512, activation = 'relu')(x)\n",
        "      x = tf.keras.layers.Dense(classes, activation = 'softmax')(x)\n",
        "      model = tf.keras.models.Model(inputs = x_inputs, outputs = x, name = \"ResNet_50_Custom\")\n",
        "      return model\n",
        "  except:\n",
        "    raise Exception()"
      ],
      "metadata": {
        "id": "pRl2iY8RshYt"
      },
      "execution_count": 17,
      "outputs": []
    },
    {
      "cell_type": "code",
      "source": [
        "model_toy = Resnet_50_Custom();\n",
        "\n",
        "model_toy.compile(optimizer='adam',loss='binary_crossentropy', metrics=['accuracy'])\n",
        "model_toy.summary();\n"
      ],
      "metadata": {
        "id": "zaV75l_PGXND"
      },
      "execution_count": null,
      "outputs": []
    },
    {
      "cell_type": "code",
      "source": [
        "# summarize the model\n",
        "from tensorflow.keras.utils import plot_model\n",
        "\n",
        "plot_model(model_toy, 'model.png', show_shapes=True)"
      ],
      "metadata": {
        "id": "K0BXpdclaono"
      },
      "execution_count": null,
      "outputs": []
    },
    {
      "cell_type": "code",
      "source": [
        "# 1. Training data: 80%\n",
        "# 2. Testing data: 20%\n",
        "from sklearn.model_selection import train_test_split\n",
        "\n",
        "X_train, X_test, y_train, y_test = train_test_split(dataset, tfk.utils.to_categorical(np.array(label)), test_size = 0.1, random_state = 0)"
      ],
      "metadata": {
        "id": "vlZm6ahdG2J-"
      },
      "execution_count": 18,
      "outputs": []
    },
    {
      "cell_type": "code",
      "source": [
        "np.array(X_train).shape,y_train.shape"
      ],
      "metadata": {
        "colab": {
          "base_uri": "https://localhost:8080/"
        },
        "id": "kprXAGY2f7Ye",
        "outputId": "1f748147-5239-438f-c888-4cb0b536aac4"
      },
      "execution_count": 37,
      "outputs": [
        {
          "output_type": "execute_result",
          "data": {
            "text/plain": [
              "((2069, 64, 64, 3), (2069, 2))"
            ]
          },
          "metadata": {},
          "execution_count": 37
        }
      ]
    },
    {
      "cell_type": "code",
      "source": [
        "## Define image generator augmentation\n",
        "\n",
        "from tensorflow.keras.preprocessing.image import ImageDataGenerator,img_to_array,load_img\n",
        "\n",
        "batch_size=16\n",
        "\n",
        "datagen=ImageDataGenerator(\n",
        "      rescale=1./255,\n",
        "      rotation_range=40,\n",
        "      width_shift_range=0.2,\n",
        "      height_shift_range=0.2,\n",
        "      shear_range=0.2,\n",
        "      zoom_range=0.2,\n",
        "      horizontal_flip=True,\n",
        "      fill_mode='constant'\n",
        ")"
      ],
      "metadata": {
        "id": "QJeWjbI7aqQA"
      },
      "execution_count": 47,
      "outputs": []
    },
    {
      "cell_type": "code",
      "source": [
        "#datagen.fit(np.array(X_train))\n",
        "\n",
        "training_generator=datagen.flow(np.array(X_train),y=None,batch_size=32,subset='training',seed=7)\n",
        "validation_generator=datagen.flow(np.array(X_train),y=None,batch_size=32,subset='validation',seed=7)"
      ],
      "metadata": {
        "id": "yshjFlE1eoWz"
      },
      "execution_count": 59,
      "outputs": []
    },
    {
      "cell_type": "code",
      "source": [
        "#model_toy.fit_generator(training_generator,validation_generator  ,steps_per_epoch=len(X_train)/32,epochs=100)\n",
        "\n",
        "history = model_toy.fit_generator(training_generator,steps_per_epoch=(len(X_train)*0.8)//64, epochs=10, validation_data=validation_generator, validation_steps=(len(X_train)*0.2)//64)"
      ],
      "metadata": {
        "id": "hJRd2sSRewYq"
      },
      "execution_count": null,
      "outputs": []
    },
    {
      "cell_type": "code",
      "source": [
        "epochs=100\n",
        "for e in range(epochs):\n",
        "    print('Epoch', e)\n",
        "    batches = 0\n",
        "    for x_batch, y_batch in datagen.flow(np.array(X_train), y_train, batch_size=32):\n",
        "        model_toy.fit(x_batch, y_batch)\n",
        "        batches += 1\n",
        "        if batches >= len(X_train) / 32:\n",
        "            # we need to break the loop by hand because\n",
        "            # the generator loops indefinitely\n",
        "            break"
      ],
      "metadata": {
        "id": "U4I6VYFLgwfy"
      },
      "execution_count": null,
      "outputs": []
    },
    {
      "cell_type": "code",
      "source": [
        "train_dataset=train_datagen.flow_from_directory(\n",
        "    '/content/drive/MyDrive/MalarialCellDetection_CNN/train_images',\n",
        "    batch_size=batch_size,\n",
        "    class_mode='binary'\n",
        ")"
      ],
      "metadata": {
        "colab": {
          "base_uri": "https://localhost:8080/"
        },
        "id": "z_o-mbfmYNjP",
        "outputId": "aff70fa3-47fb-4b68-a22f-151587162b81"
      },
      "execution_count": 29,
      "outputs": [
        {
          "output_type": "stream",
          "name": "stdout",
          "text": [
            "Found 2299 images belonging to 2 classes.\n"
          ]
        }
      ]
    },
    {
      "cell_type": "code",
      "source": [
        "# model_toy.fit(np.array(X_train), y_train,\n",
        "# #model_toy.fit(np.array(dataset), tfk.utils.to_categorical(np.array(label)),\n",
        "#           batch_size=400,          epochs=500,\n",
        "#          validation_split=0.3)   ###convert X_train to numpy array 1st"
      ],
      "metadata": {
        "id": "vcjfYepedimD"
      },
      "execution_count": null,
      "outputs": []
    },
    {
      "cell_type": "code",
      "source": [
        "print(\"Test_Accuracy: {:.2f}%\".format(model_toy.evaluate(np.array(X_test), np.array(y_test))[1]*100))"
      ],
      "metadata": {
        "id": "tk84ZNtCGXPl",
        "colab": {
          "base_uri": "https://localhost:8080/"
        },
        "outputId": "550a80a0-48d3-47e6-fce1-2300a55dc5b6"
      },
      "execution_count": 24,
      "outputs": [
        {
          "output_type": "stream",
          "name": "stdout",
          "text": [
            "8/8 [==============================] - 0s 11ms/step - loss: 0.1999 - accuracy: 0.9609\n",
            "Test_Accuracy: 96.09%\n"
          ]
        }
      ]
    },
    {
      "cell_type": "code",
      "source": [],
      "metadata": {
        "id": "hOSo_CgSGXTF"
      },
      "execution_count": 24,
      "outputs": []
    },
    {
      "cell_type": "code",
      "source": [],
      "metadata": {
        "id": "A6NXJkDEEtiw"
      },
      "execution_count": 24,
      "outputs": []
    },
    {
      "cell_type": "code",
      "source": [],
      "metadata": {
        "id": "trfAkTFjEtll"
      },
      "execution_count": 24,
      "outputs": []
    },
    {
      "cell_type": "code",
      "source": [],
      "metadata": {
        "id": "ODScpVpEEto4"
      },
      "execution_count": 24,
      "outputs": []
    }
  ]
}