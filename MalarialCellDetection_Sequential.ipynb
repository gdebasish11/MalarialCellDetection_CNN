{
  "nbformat": 4,
  "nbformat_minor": 0,
  "metadata": {
    "colab": {
      "provenance": [],
      "authorship_tag": "ABX9TyOh/79LBehLTxad53IUqdxI",
      "include_colab_link": true
    },
    "kernelspec": {
      "name": "python3",
      "display_name": "Python 3"
    },
    "language_info": {
      "name": "python"
    },
    "accelerator": "GPU",
    "gpuClass": "standard"
  },
  "cells": [
    {
      "cell_type": "markdown",
      "metadata": {
        "id": "view-in-github",
        "colab_type": "text"
      },
      "source": [
        "<a href=\"https://colab.research.google.com/github/gdebasish11/MalarialCellDetection_CNN/blob/main/MalarialCellDetection_Sequential.ipynb\" target=\"_parent\"><img src=\"https://colab.research.google.com/assets/colab-badge.svg\" alt=\"Open In Colab\"/></a>"
      ]
    },
    {
      "cell_type": "code",
      "execution_count": 11,
      "metadata": {
        "colab": {
          "base_uri": "https://localhost:8080/"
        },
        "id": "zSJDEpanRvbU",
        "outputId": "a8ffaf04-c7a9-47ec-f5ba-30f62ff02c31"
      },
      "outputs": [
        {
          "output_type": "stream",
          "name": "stdout",
          "text": [
            "Mounted at /content/drive\n"
          ]
        }
      ],
      "source": [
        "from google.colab import drive\n",
        "drive.mount('/content/drive')"
      ]
    },
    {
      "cell_type": "code",
      "source": [
        "##Datasource: https://lhncbc.nlm.nih.gov/publication/pub9932\n",
        "\n",
        "import pandas as pd\n",
        "import numpy as np\n",
        "import matplotlib.pyplot as plt\n",
        "import os\n",
        "import cv2\n",
        "from PIL import Image\n",
        "import tensorflow as tf\n",
        "from tensorflow import keras as tfk"
      ],
      "metadata": {
        "id": "GIVLmrK4R0PR"
      },
      "execution_count": 5,
      "outputs": []
    },
    {
      "cell_type": "code",
      "source": [
        "SIZE = 64\n",
        "dataset = []  \n",
        "label = []"
      ],
      "metadata": {
        "id": "yCtlGmylR0Rx"
      },
      "execution_count": 9,
      "outputs": []
    },
    {
      "cell_type": "code",
      "source": [
        "## define path for parasitized images\n",
        "parasitized_images = os.listdir(\"/content/drive/MyDrive/MalarialCellDetection_CNN/train_images/Paratizd_New\")"
      ],
      "metadata": {
        "id": "jNwiUVaVSJ1U"
      },
      "execution_count": 12,
      "outputs": []
    },
    {
      "cell_type": "code",
      "source": [
        "for i, image_name in enumerate(parasitized_images):      \n",
        "    if (image_name.split('.')[1] == 'png' and i<7000):\n",
        "        image = cv2.imread('/content/drive/MyDrive/MalarialCellDetection_CNN/train_images/Paratizd_New/' + image_name)\n",
        "        image = Image.fromarray(image, 'RGB')\n",
        "        image = image.resize((SIZE, SIZE))\n",
        "        dataset.append(np.array(image))\n",
        "        label.append(0)"
      ],
      "metadata": {
        "id": "dZxd0KRJR0Wo"
      },
      "execution_count": 13,
      "outputs": []
    },
    {
      "cell_type": "code",
      "source": [
        "uninfected_images = os.listdir(\"/content/drive/MyDrive/MalarialCellDetection_CNN/train_images/Uninfected_New\")"
      ],
      "metadata": {
        "id": "Pyv8gse_R0ZK"
      },
      "execution_count": 14,
      "outputs": []
    },
    {
      "cell_type": "code",
      "source": [
        "for i, image_name in enumerate(uninfected_images):  \n",
        "    \n",
        "    if (image_name.split('.')[1] == 'png' and i<7000):\n",
        "        image = cv2.imread('/content/drive/MyDrive/MalarialCellDetection_CNN/train_images/Uninfected_New/' + image_name)\n",
        "        image = Image.fromarray(image, 'RGB')\n",
        "        image = image.resize((SIZE, SIZE))\n",
        "        dataset.append(np.array(image))\n",
        "        label.append(1)"
      ],
      "metadata": {
        "id": "9W4OHwWER0c1"
      },
      "execution_count": 15,
      "outputs": []
    },
    {
      "cell_type": "markdown",
      "source": [
        "# *Sequential model*"
      ],
      "metadata": {
        "id": "E6jSj4IMSSZ4"
      }
    },
    {
      "cell_type": "code",
      "source": [
        "input_shape=dataset[1].shape"
      ],
      "metadata": {
        "id": "NZveGydGSYjL"
      },
      "execution_count": 16,
      "outputs": []
    },
    {
      "cell_type": "code",
      "source": [
        "##Normal sequential model conv2d\n",
        "inputs = tf.keras.Input(shape=input_shape)\n",
        "model_seq=tf.keras.Sequential()\n",
        "model_seq.add(tf.keras.layers.Conv2D(filters=32,kernel_size=(3,3),activation='relu',input_shape=input_shape))\n",
        "model_seq.add(tf.keras.layers.MaxPool2D((2,2)))\n",
        "model_seq.add(tf.keras.layers.Conv2D(filters=64,kernel_size=(3,3),activation='relu'))\n",
        "model_seq.add(tf.keras.layers.MaxPool2D((2,2)))\n",
        "model_seq.add(tf.keras.layers.Conv2D(filters=64,kernel_size=(3,3),activation='relu'))\n",
        "##flatten\n",
        "model_seq.add(tf.keras.layers.Flatten())\n",
        "model_seq.add(tf.keras.layers.Dense(64,activation='relu'))\n",
        "model_seq.add(tf.keras.layers.Dense(2, activation = 'softmax'))"
      ],
      "metadata": {
        "id": "BHnOiOQGR0fb"
      },
      "execution_count": 17,
      "outputs": []
    },
    {
      "cell_type": "code",
      "source": [
        "model_seq.summary()"
      ],
      "metadata": {
        "colab": {
          "base_uri": "https://localhost:8080/"
        },
        "id": "3S-S1VkaSQXH",
        "outputId": "ac06589a-7047-49b8-ddd9-158b63c23c01"
      },
      "execution_count": 11,
      "outputs": [
        {
          "output_type": "stream",
          "name": "stdout",
          "text": [
            "Model: \"sequential\"\n",
            "_________________________________________________________________\n",
            " Layer (type)                Output Shape              Param #   \n",
            "=================================================================\n",
            " conv2d (Conv2D)             (None, 62, 62, 32)        896       \n",
            "                                                                 \n",
            " max_pooling2d (MaxPooling2D  (None, 31, 31, 32)       0         \n",
            " )                                                               \n",
            "                                                                 \n",
            " conv2d_1 (Conv2D)           (None, 29, 29, 64)        18496     \n",
            "                                                                 \n",
            " max_pooling2d_1 (MaxPooling  (None, 14, 14, 64)       0         \n",
            " 2D)                                                             \n",
            "                                                                 \n",
            " conv2d_2 (Conv2D)           (None, 12, 12, 64)        36928     \n",
            "                                                                 \n",
            " flatten (Flatten)           (None, 9216)              0         \n",
            "                                                                 \n",
            " dense (Dense)               (None, 64)                589888    \n",
            "                                                                 \n",
            " dense_1 (Dense)             (None, 2)                 130       \n",
            "                                                                 \n",
            "=================================================================\n",
            "Total params: 646,338\n",
            "Trainable params: 646,338\n",
            "Non-trainable params: 0\n",
            "_________________________________________________________________\n"
          ]
        }
      ]
    },
    {
      "cell_type": "code",
      "source": [
        "model_seq.summary()"
      ],
      "metadata": {
        "colab": {
          "base_uri": "https://localhost:8080/"
        },
        "id": "fSjz-3-CSQZx",
        "outputId": "27748b33-f1a7-4eca-cd0b-ada11473f7a9"
      },
      "execution_count": 12,
      "outputs": [
        {
          "output_type": "stream",
          "name": "stdout",
          "text": [
            "Model: \"sequential\"\n",
            "_________________________________________________________________\n",
            " Layer (type)                Output Shape              Param #   \n",
            "=================================================================\n",
            " conv2d (Conv2D)             (None, 62, 62, 32)        896       \n",
            "                                                                 \n",
            " max_pooling2d (MaxPooling2D  (None, 31, 31, 32)       0         \n",
            " )                                                               \n",
            "                                                                 \n",
            " conv2d_1 (Conv2D)           (None, 29, 29, 64)        18496     \n",
            "                                                                 \n",
            " max_pooling2d_1 (MaxPooling  (None, 14, 14, 64)       0         \n",
            " 2D)                                                             \n",
            "                                                                 \n",
            " conv2d_2 (Conv2D)           (None, 12, 12, 64)        36928     \n",
            "                                                                 \n",
            " flatten (Flatten)           (None, 9216)              0         \n",
            "                                                                 \n",
            " dense (Dense)               (None, 64)                589888    \n",
            "                                                                 \n",
            " dense_1 (Dense)             (None, 2)                 130       \n",
            "                                                                 \n",
            "=================================================================\n",
            "Total params: 646,338\n",
            "Trainable params: 646,338\n",
            "Non-trainable params: 0\n",
            "_________________________________________________________________\n"
          ]
        }
      ]
    },
    {
      "cell_type": "code",
      "source": [
        "# 1. Training data: 80%\n",
        "# 2. Testing data: 20%\n",
        "from sklearn.model_selection import train_test_split\n",
        "\n",
        "X_train, X_test, y_train, y_test = train_test_split(dataset, tfk.utils.to_categorical(np.array(label)), test_size = 0.1, random_state = 23)"
      ],
      "metadata": {
        "id": "FBRz2-CWSQcO"
      },
      "execution_count": 18,
      "outputs": []
    },
    {
      "cell_type": "code",
      "source": [
        "type(X_train),np.array(X_train).shape,y_train.shape,y_test.shape,type(y_test),np.array(X_test).shape"
      ],
      "metadata": {
        "colab": {
          "base_uri": "https://localhost:8080/"
        },
        "id": "AvmD3dsJSQeT",
        "outputId": "11d91c0a-f00b-4582-e621-6eb9e5373860"
      },
      "execution_count": 19,
      "outputs": [
        {
          "output_type": "execute_result",
          "data": {
            "text/plain": [
              "(list, (2069, 64, 64, 3), (2069, 2), (230, 2), numpy.ndarray, (230, 64, 64, 3))"
            ]
          },
          "metadata": {},
          "execution_count": 19
        }
      ]
    },
    {
      "cell_type": "code",
      "source": [
        "model_seq.compile(optimizer='adam',loss='binary_crossentropy',metrics='accuracy')"
      ],
      "metadata": {
        "id": "OzGreYA2S9Wl"
      },
      "execution_count": 15,
      "outputs": []
    },
    {
      "cell_type": "code",
      "source": [
        "history = model_seq.fit(np.array(X_train), y_train, epochs=100,  validation_data=(np.array(X_test), y_test))"
      ],
      "metadata": {
        "colab": {
          "base_uri": "https://localhost:8080/"
        },
        "id": "6jlnLLvNR0hp",
        "outputId": "9329e709-b981-4f05-96d0-14e7e9bbbbf9"
      },
      "execution_count": 16,
      "outputs": [
        {
          "output_type": "stream",
          "name": "stdout",
          "text": [
            "Epoch 1/100\n",
            "65/65 [==============================] - 19s 248ms/step - loss: 4.9124 - accuracy: 0.5230 - val_loss: 0.6911 - val_accuracy: 0.5043\n",
            "Epoch 2/100\n",
            "65/65 [==============================] - 15s 235ms/step - loss: 0.6874 - accuracy: 0.5186 - val_loss: 0.6930 - val_accuracy: 0.5087\n",
            "Epoch 3/100\n",
            "65/65 [==============================] - 16s 243ms/step - loss: 0.6787 - accuracy: 0.5239 - val_loss: 0.6960 - val_accuracy: 0.5261\n",
            "Epoch 4/100\n",
            "65/65 [==============================] - 15s 232ms/step - loss: 0.6814 - accuracy: 0.5452 - val_loss: 0.7031 - val_accuracy: 0.4739\n",
            "Epoch 5/100\n",
            "65/65 [==============================] - 16s 244ms/step - loss: 0.6718 - accuracy: 0.5563 - val_loss: 0.7245 - val_accuracy: 0.4957\n",
            "Epoch 6/100\n",
            "65/65 [==============================] - 16s 240ms/step - loss: 0.6667 - accuracy: 0.5887 - val_loss: 0.7351 - val_accuracy: 0.5478\n",
            "Epoch 7/100\n",
            "65/65 [==============================] - 16s 249ms/step - loss: 0.6459 - accuracy: 0.6201 - val_loss: 0.7387 - val_accuracy: 0.5652\n",
            "Epoch 8/100\n",
            "65/65 [==============================] - 16s 243ms/step - loss: 0.6561 - accuracy: 0.5897 - val_loss: 0.7019 - val_accuracy: 0.5043\n",
            "Epoch 9/100\n",
            "65/65 [==============================] - 16s 245ms/step - loss: 0.6838 - accuracy: 0.5128 - val_loss: 0.7204 - val_accuracy: 0.5304\n",
            "Epoch 10/100\n",
            "65/65 [==============================] - 18s 276ms/step - loss: 0.6801 - accuracy: 0.5292 - val_loss: 0.7675 - val_accuracy: 0.5261\n",
            "Epoch 11/100\n",
            "65/65 [==============================] - 16s 243ms/step - loss: 0.6527 - accuracy: 0.6090 - val_loss: 0.8314 - val_accuracy: 0.5217\n",
            "Epoch 12/100\n",
            "65/65 [==============================] - 16s 247ms/step - loss: 0.6174 - accuracy: 0.6390 - val_loss: 0.8249 - val_accuracy: 0.5478\n",
            "Epoch 13/100\n",
            "65/65 [==============================] - 16s 243ms/step - loss: 0.5787 - accuracy: 0.7003 - val_loss: 0.8522 - val_accuracy: 0.5217\n",
            "Epoch 14/100\n",
            "65/65 [==============================] - 16s 246ms/step - loss: 0.5731 - accuracy: 0.6936 - val_loss: 0.9782 - val_accuracy: 0.5174\n",
            "Epoch 15/100\n",
            "65/65 [==============================] - 16s 244ms/step - loss: 0.5212 - accuracy: 0.7197 - val_loss: 0.9379 - val_accuracy: 0.5565\n",
            "Epoch 16/100\n",
            "65/65 [==============================] - 16s 246ms/step - loss: 0.4714 - accuracy: 0.7695 - val_loss: 1.0887 - val_accuracy: 0.5565\n",
            "Epoch 17/100\n",
            "65/65 [==============================] - 16s 246ms/step - loss: 0.4848 - accuracy: 0.7690 - val_loss: 1.1363 - val_accuracy: 0.5217\n",
            "Epoch 18/100\n",
            "65/65 [==============================] - 16s 241ms/step - loss: 0.4403 - accuracy: 0.7811 - val_loss: 1.1466 - val_accuracy: 0.6000\n",
            "Epoch 19/100\n",
            "65/65 [==============================] - 16s 243ms/step - loss: 0.3851 - accuracy: 0.8217 - val_loss: 1.3569 - val_accuracy: 0.5565\n",
            "Epoch 20/100\n",
            "65/65 [==============================] - 16s 248ms/step - loss: 0.3592 - accuracy: 0.8429 - val_loss: 1.3884 - val_accuracy: 0.5826\n",
            "Epoch 21/100\n",
            "65/65 [==============================] - 17s 260ms/step - loss: 0.3308 - accuracy: 0.8545 - val_loss: 1.3815 - val_accuracy: 0.5913\n",
            "Epoch 22/100\n",
            "65/65 [==============================] - 17s 262ms/step - loss: 0.3031 - accuracy: 0.8661 - val_loss: 1.5458 - val_accuracy: 0.5478\n",
            "Epoch 23/100\n",
            "65/65 [==============================] - 21s 319ms/step - loss: 0.2769 - accuracy: 0.8777 - val_loss: 1.6169 - val_accuracy: 0.5565\n",
            "Epoch 24/100\n",
            "65/65 [==============================] - 16s 252ms/step - loss: 0.2445 - accuracy: 0.8888 - val_loss: 1.8707 - val_accuracy: 0.5870\n",
            "Epoch 25/100\n",
            "65/65 [==============================] - 18s 284ms/step - loss: 0.2079 - accuracy: 0.9159 - val_loss: 1.9021 - val_accuracy: 0.6000\n",
            "Epoch 26/100\n",
            "65/65 [==============================] - 16s 250ms/step - loss: 0.1760 - accuracy: 0.9285 - val_loss: 1.9852 - val_accuracy: 0.5304\n",
            "Epoch 27/100\n",
            "65/65 [==============================] - 16s 246ms/step - loss: 0.1620 - accuracy: 0.9352 - val_loss: 2.0903 - val_accuracy: 0.5652\n",
            "Epoch 28/100\n",
            "65/65 [==============================] - 16s 247ms/step - loss: 0.1536 - accuracy: 0.9415 - val_loss: 2.1568 - val_accuracy: 0.5783\n",
            "Epoch 29/100\n",
            "65/65 [==============================] - 16s 252ms/step - loss: 0.1160 - accuracy: 0.9536 - val_loss: 2.4547 - val_accuracy: 0.5870\n",
            "Epoch 30/100\n",
            "65/65 [==============================] - 17s 258ms/step - loss: 0.1024 - accuracy: 0.9604 - val_loss: 2.4582 - val_accuracy: 0.5826\n",
            "Epoch 31/100\n",
            "65/65 [==============================] - 17s 255ms/step - loss: 0.0909 - accuracy: 0.9686 - val_loss: 2.5704 - val_accuracy: 0.6000\n",
            "Epoch 32/100\n",
            "65/65 [==============================] - 17s 268ms/step - loss: 0.1151 - accuracy: 0.9662 - val_loss: 2.7127 - val_accuracy: 0.6130\n",
            "Epoch 33/100\n",
            "65/65 [==============================] - 17s 265ms/step - loss: 0.1146 - accuracy: 0.9604 - val_loss: 2.5308 - val_accuracy: 0.6000\n",
            "Epoch 34/100\n",
            "65/65 [==============================] - 16s 252ms/step - loss: 0.0858 - accuracy: 0.9773 - val_loss: 2.6494 - val_accuracy: 0.5826\n",
            "Epoch 35/100\n",
            "65/65 [==============================] - 16s 246ms/step - loss: 0.0994 - accuracy: 0.9628 - val_loss: 2.8054 - val_accuracy: 0.5783\n",
            "Epoch 36/100\n",
            "65/65 [==============================] - 16s 251ms/step - loss: 0.0645 - accuracy: 0.9792 - val_loss: 2.7503 - val_accuracy: 0.6000\n",
            "Epoch 37/100\n",
            "65/65 [==============================] - 16s 242ms/step - loss: 0.0258 - accuracy: 0.9957 - val_loss: 3.3169 - val_accuracy: 0.5826\n",
            "Epoch 38/100\n",
            "65/65 [==============================] - 16s 243ms/step - loss: 0.0113 - accuracy: 0.9985 - val_loss: 3.3488 - val_accuracy: 0.6087\n",
            "Epoch 39/100\n",
            "65/65 [==============================] - 15s 237ms/step - loss: 0.0046 - accuracy: 1.0000 - val_loss: 3.5789 - val_accuracy: 0.6174\n",
            "Epoch 40/100\n",
            "65/65 [==============================] - 18s 273ms/step - loss: 0.0026 - accuracy: 1.0000 - val_loss: 3.7319 - val_accuracy: 0.6174\n",
            "Epoch 41/100\n",
            "65/65 [==============================] - 15s 236ms/step - loss: 0.0017 - accuracy: 1.0000 - val_loss: 3.8350 - val_accuracy: 0.6130\n",
            "Epoch 42/100\n",
            "65/65 [==============================] - 16s 240ms/step - loss: 0.0013 - accuracy: 1.0000 - val_loss: 3.9102 - val_accuracy: 0.6174\n",
            "Epoch 43/100\n",
            "65/65 [==============================] - 16s 240ms/step - loss: 0.0011 - accuracy: 1.0000 - val_loss: 3.9832 - val_accuracy: 0.6217\n",
            "Epoch 44/100\n",
            "65/65 [==============================] - 16s 241ms/step - loss: 8.8609e-04 - accuracy: 1.0000 - val_loss: 4.0582 - val_accuracy: 0.6130\n",
            "Epoch 45/100\n",
            "65/65 [==============================] - 16s 241ms/step - loss: 7.5283e-04 - accuracy: 1.0000 - val_loss: 4.1218 - val_accuracy: 0.6043\n",
            "Epoch 46/100\n",
            "65/65 [==============================] - 16s 241ms/step - loss: 6.5521e-04 - accuracy: 1.0000 - val_loss: 4.1622 - val_accuracy: 0.6087\n",
            "Epoch 47/100\n",
            "65/65 [==============================] - 16s 246ms/step - loss: 5.7526e-04 - accuracy: 1.0000 - val_loss: 4.2210 - val_accuracy: 0.6000\n",
            "Epoch 48/100\n",
            "65/65 [==============================] - 16s 238ms/step - loss: 5.0652e-04 - accuracy: 1.0000 - val_loss: 4.2717 - val_accuracy: 0.5957\n",
            "Epoch 49/100\n",
            "65/65 [==============================] - 16s 247ms/step - loss: 4.5034e-04 - accuracy: 1.0000 - val_loss: 4.3111 - val_accuracy: 0.6000\n",
            "Epoch 50/100\n",
            "65/65 [==============================] - 16s 238ms/step - loss: 4.0860e-04 - accuracy: 1.0000 - val_loss: 4.3587 - val_accuracy: 0.6000\n",
            "Epoch 51/100\n",
            "65/65 [==============================] - 16s 240ms/step - loss: 3.6707e-04 - accuracy: 1.0000 - val_loss: 4.3942 - val_accuracy: 0.6000\n",
            "Epoch 52/100\n",
            "65/65 [==============================] - 16s 240ms/step - loss: 3.3656e-04 - accuracy: 1.0000 - val_loss: 4.4171 - val_accuracy: 0.6000\n",
            "Epoch 53/100\n",
            "65/65 [==============================] - 16s 240ms/step - loss: 3.0641e-04 - accuracy: 1.0000 - val_loss: 4.4645 - val_accuracy: 0.6000\n",
            "Epoch 54/100\n",
            "65/65 [==============================] - 15s 236ms/step - loss: 2.7870e-04 - accuracy: 1.0000 - val_loss: 4.5008 - val_accuracy: 0.6000\n",
            "Epoch 55/100\n",
            "65/65 [==============================] - 16s 240ms/step - loss: 2.5860e-04 - accuracy: 1.0000 - val_loss: 4.5205 - val_accuracy: 0.6000\n",
            "Epoch 56/100\n",
            "65/65 [==============================] - 18s 273ms/step - loss: 2.4114e-04 - accuracy: 1.0000 - val_loss: 4.5537 - val_accuracy: 0.6000\n",
            "Epoch 57/100\n",
            "65/65 [==============================] - 16s 240ms/step - loss: 2.2018e-04 - accuracy: 1.0000 - val_loss: 4.5743 - val_accuracy: 0.6043\n",
            "Epoch 58/100\n",
            "65/65 [==============================] - 16s 241ms/step - loss: 2.0361e-04 - accuracy: 1.0000 - val_loss: 4.6052 - val_accuracy: 0.6000\n",
            "Epoch 59/100\n",
            "65/65 [==============================] - 16s 240ms/step - loss: 1.9013e-04 - accuracy: 1.0000 - val_loss: 4.6379 - val_accuracy: 0.6043\n",
            "Epoch 60/100\n",
            "65/65 [==============================] - 16s 243ms/step - loss: 1.7654e-04 - accuracy: 1.0000 - val_loss: 4.6605 - val_accuracy: 0.6000\n",
            "Epoch 61/100\n",
            "65/65 [==============================] - 19s 297ms/step - loss: 1.6599e-04 - accuracy: 1.0000 - val_loss: 4.6792 - val_accuracy: 0.6000\n",
            "Epoch 62/100\n",
            "65/65 [==============================] - 16s 242ms/step - loss: 1.5317e-04 - accuracy: 1.0000 - val_loss: 4.7056 - val_accuracy: 0.6043\n",
            "Epoch 63/100\n",
            "65/65 [==============================] - 16s 241ms/step - loss: 1.4549e-04 - accuracy: 1.0000 - val_loss: 4.7314 - val_accuracy: 0.6043\n",
            "Epoch 64/100\n",
            "65/65 [==============================] - 16s 241ms/step - loss: 1.3581e-04 - accuracy: 1.0000 - val_loss: 4.7525 - val_accuracy: 0.6043\n",
            "Epoch 65/100\n",
            "65/65 [==============================] - 16s 241ms/step - loss: 1.2989e-04 - accuracy: 1.0000 - val_loss: 4.7713 - val_accuracy: 0.6043\n",
            "Epoch 66/100\n",
            "65/65 [==============================] - 15s 237ms/step - loss: 1.2051e-04 - accuracy: 1.0000 - val_loss: 4.7973 - val_accuracy: 0.6043\n",
            "Epoch 67/100\n",
            "65/65 [==============================] - 16s 240ms/step - loss: 1.1399e-04 - accuracy: 1.0000 - val_loss: 4.8232 - val_accuracy: 0.6087\n",
            "Epoch 68/100\n",
            "65/65 [==============================] - 16s 239ms/step - loss: 1.0887e-04 - accuracy: 1.0000 - val_loss: 4.8413 - val_accuracy: 0.6043\n",
            "Epoch 69/100\n",
            "65/65 [==============================] - 16s 250ms/step - loss: 1.0137e-04 - accuracy: 1.0000 - val_loss: 4.8652 - val_accuracy: 0.6043\n",
            "Epoch 70/100\n",
            "65/65 [==============================] - 16s 249ms/step - loss: 9.6063e-05 - accuracy: 1.0000 - val_loss: 4.8776 - val_accuracy: 0.6087\n",
            "Epoch 71/100\n",
            "65/65 [==============================] - 17s 252ms/step - loss: 9.0621e-05 - accuracy: 1.0000 - val_loss: 4.9004 - val_accuracy: 0.6043\n",
            "Epoch 72/100\n",
            "65/65 [==============================] - 17s 257ms/step - loss: 8.6291e-05 - accuracy: 1.0000 - val_loss: 4.9233 - val_accuracy: 0.6087\n",
            "Epoch 73/100\n",
            "65/65 [==============================] - 16s 245ms/step - loss: 8.3319e-05 - accuracy: 1.0000 - val_loss: 4.9474 - val_accuracy: 0.6043\n",
            "Epoch 74/100\n",
            "65/65 [==============================] - 16s 241ms/step - loss: 7.7812e-05 - accuracy: 1.0000 - val_loss: 4.9659 - val_accuracy: 0.6043\n",
            "Epoch 75/100\n",
            "65/65 [==============================] - 16s 239ms/step - loss: 7.3316e-05 - accuracy: 1.0000 - val_loss: 4.9828 - val_accuracy: 0.6043\n",
            "Epoch 76/100\n",
            "65/65 [==============================] - 16s 242ms/step - loss: 6.9611e-05 - accuracy: 1.0000 - val_loss: 5.0016 - val_accuracy: 0.6087\n",
            "Epoch 77/100\n",
            "65/65 [==============================] - 15s 237ms/step - loss: 6.6342e-05 - accuracy: 1.0000 - val_loss: 5.0174 - val_accuracy: 0.6087\n",
            "Epoch 78/100\n",
            "65/65 [==============================] - 15s 237ms/step - loss: 6.3029e-05 - accuracy: 1.0000 - val_loss: 5.0303 - val_accuracy: 0.6043\n",
            "Epoch 79/100\n",
            "65/65 [==============================] - 15s 237ms/step - loss: 6.0190e-05 - accuracy: 1.0000 - val_loss: 5.0542 - val_accuracy: 0.6043\n",
            "Epoch 80/100\n",
            "65/65 [==============================] - 16s 242ms/step - loss: 5.6941e-05 - accuracy: 1.0000 - val_loss: 5.0719 - val_accuracy: 0.6087\n",
            "Epoch 81/100\n",
            "65/65 [==============================] - 16s 242ms/step - loss: 5.4451e-05 - accuracy: 1.0000 - val_loss: 5.0952 - val_accuracy: 0.6087\n",
            "Epoch 82/100\n",
            "65/65 [==============================] - 16s 240ms/step - loss: 5.2020e-05 - accuracy: 1.0000 - val_loss: 5.1028 - val_accuracy: 0.6087\n",
            "Epoch 83/100\n",
            "65/65 [==============================] - 16s 243ms/step - loss: 4.9329e-05 - accuracy: 1.0000 - val_loss: 5.1317 - val_accuracy: 0.6087\n",
            "Epoch 84/100\n",
            "65/65 [==============================] - 16s 240ms/step - loss: 4.7291e-05 - accuracy: 1.0000 - val_loss: 5.1464 - val_accuracy: 0.6087\n",
            "Epoch 85/100\n",
            "65/65 [==============================] - 16s 241ms/step - loss: 4.4977e-05 - accuracy: 1.0000 - val_loss: 5.1585 - val_accuracy: 0.6087\n",
            "Epoch 86/100\n",
            "65/65 [==============================] - 16s 241ms/step - loss: 4.2663e-05 - accuracy: 1.0000 - val_loss: 5.1794 - val_accuracy: 0.6087\n",
            "Epoch 87/100\n",
            "65/65 [==============================] - 18s 278ms/step - loss: 4.0844e-05 - accuracy: 1.0000 - val_loss: 5.1991 - val_accuracy: 0.6087\n",
            "Epoch 88/100\n",
            "65/65 [==============================] - 16s 242ms/step - loss: 3.8935e-05 - accuracy: 1.0000 - val_loss: 5.2182 - val_accuracy: 0.6087\n",
            "Epoch 89/100\n",
            "65/65 [==============================] - 16s 242ms/step - loss: 3.7142e-05 - accuracy: 1.0000 - val_loss: 5.2327 - val_accuracy: 0.6087\n",
            "Epoch 90/100\n",
            "65/65 [==============================] - 16s 246ms/step - loss: 3.5530e-05 - accuracy: 1.0000 - val_loss: 5.2530 - val_accuracy: 0.6130\n",
            "Epoch 91/100\n",
            "65/65 [==============================] - 16s 246ms/step - loss: 3.3911e-05 - accuracy: 1.0000 - val_loss: 5.2677 - val_accuracy: 0.6130\n",
            "Epoch 92/100\n",
            "65/65 [==============================] - 17s 256ms/step - loss: 3.2823e-05 - accuracy: 1.0000 - val_loss: 5.2898 - val_accuracy: 0.6130\n",
            "Epoch 93/100\n",
            "65/65 [==============================] - 17s 252ms/step - loss: 3.1090e-05 - accuracy: 1.0000 - val_loss: 5.3060 - val_accuracy: 0.6130\n",
            "Epoch 94/100\n",
            "65/65 [==============================] - 16s 244ms/step - loss: 2.9618e-05 - accuracy: 1.0000 - val_loss: 5.3236 - val_accuracy: 0.6130\n",
            "Epoch 95/100\n",
            "65/65 [==============================] - 16s 242ms/step - loss: 2.8467e-05 - accuracy: 1.0000 - val_loss: 5.3446 - val_accuracy: 0.6174\n",
            "Epoch 96/100\n",
            "65/65 [==============================] - 16s 243ms/step - loss: 2.7147e-05 - accuracy: 1.0000 - val_loss: 5.3588 - val_accuracy: 0.6174\n",
            "Epoch 97/100\n",
            "65/65 [==============================] - 16s 239ms/step - loss: 2.6005e-05 - accuracy: 1.0000 - val_loss: 5.3704 - val_accuracy: 0.6130\n",
            "Epoch 98/100\n",
            "65/65 [==============================] - 15s 239ms/step - loss: 2.4802e-05 - accuracy: 1.0000 - val_loss: 5.3832 - val_accuracy: 0.6087\n",
            "Epoch 99/100\n",
            "65/65 [==============================] - 16s 244ms/step - loss: 2.3630e-05 - accuracy: 1.0000 - val_loss: 5.4076 - val_accuracy: 0.6130\n",
            "Epoch 100/100\n",
            "65/65 [==============================] - 16s 243ms/step - loss: 2.2530e-05 - accuracy: 1.0000 - val_loss: 5.4174 - val_accuracy: 0.6087\n"
          ]
        }
      ]
    },
    {
      "cell_type": "markdown",
      "source": [
        "# *Hyperparameter training with Keras tuner*"
      ],
      "metadata": {
        "id": "UOFfINg1CrHP"
      }
    },
    {
      "cell_type": "code",
      "source": [
        "!pip install keras-tuner"
      ],
      "metadata": {
        "id": "1QGLuLbfSjm6"
      },
      "execution_count": null,
      "outputs": []
    },
    {
      "cell_type": "code",
      "source": [
        "def build_tuned_model(hp):\n",
        "  inputs = tf.keras.Input(shape=input_shape)\n",
        "  model=tf.keras.Sequential()\n",
        "  model.add(tf.keras.layers.Conv2D(\n",
        "          filters=hp.Int('conv_1_filter',min_value=32,max_value=128,step=16),\n",
        "          kernel_size=hp.Choice('conv_1_kernel',values=[3,5]),\n",
        "          activation='relu',input_shape=input_shape\n",
        "          ))\n",
        "  model.add(tf.keras.layers.MaxPool2D((2,2)))\n",
        "  model.add(tf.keras.layers.Conv2D(\n",
        "          filters=hp.Int('conv_2_filter',min_value=32,max_value=128,step=16),\n",
        "          kernel_size=hp.Choice('conv_2_kernel',values=[3,5]),\n",
        "          activation='relu'\n",
        "          ))\n",
        "  model.add(tf.keras.layers.MaxPool2D((2,2)))\n",
        "  model.add(tf.keras.layers.Conv2D(\n",
        "          filters=hp.Int('conv_3_filter',min_value=32,max_value=128,step=16),\n",
        "          kernel_size=hp.Choice('conv_3_kernel',values=[3,5]),\n",
        "          activation='relu'\n",
        "          ))\n",
        "  model.add(tf.keras.layers.Flatten())\n",
        "  model.add(tf.keras.layers.Dense(\n",
        "          units=hp.Int('dense_1_units', min_value=32, max_value=128, step=16),\n",
        "          activation='relu'\n",
        "           ))\n",
        "  model.add(tf.keras.layers.Dense(2, activation = 'softmax'))\n",
        "  model.compile(optimizer='adam',loss='binary_crossentropy',metrics='accuracy')\n",
        "  return model"
      ],
      "metadata": {
        "id": "aUA7sF15Sjpx"
      },
      "execution_count": 20,
      "outputs": []
    },
    {
      "cell_type": "code",
      "source": [
        "from kerastuner import RandomSearch\n",
        "from kerastuner.engine.hyperparameters import HyperParameters"
      ],
      "metadata": {
        "colab": {
          "base_uri": "https://localhost:8080/"
        },
        "id": "le6D6qriSj2Z",
        "outputId": "742eeee5-12e8-46a8-bcf6-dbd94a068f29"
      },
      "execution_count": 3,
      "outputs": [
        {
          "output_type": "stream",
          "name": "stderr",
          "text": [
            "<ipython-input-3-2bbfbe7dae29>:1: DeprecationWarning: `import kerastuner` is deprecated, please use `import keras_tuner`.\n",
            "  from kerastuner import RandomSearch\n"
          ]
        }
      ]
    },
    {
      "cell_type": "code",
      "source": [
        "tuner_search=RandomSearch(build_tuned_model,\n",
        "                          objective='val_accuracy',\n",
        "                          max_trials=5,\n",
        "                        #  directory='output',\n",
        "                          project_name=\"Malarial Cell Detection\")"
      ],
      "metadata": {
        "id": "klRBLK95Fi_1"
      },
      "execution_count": 21,
      "outputs": []
    },
    {
      "cell_type": "code",
      "source": [
        "tuner_search.search(np.array(X_train), y_train, epochs=100,  validation_data=(np.array(X_test), y_test))"
      ],
      "metadata": {
        "colab": {
          "base_uri": "https://localhost:8080/"
        },
        "id": "sxQ9nxctFjCT",
        "outputId": "321c22bb-a0c2-4efb-fbce-ae605b3bf99d"
      },
      "execution_count": 22,
      "outputs": [
        {
          "output_type": "stream",
          "name": "stdout",
          "text": [
            "Trial 5 Complete [00h 00m 58s]\n",
            "val_accuracy: 0.834782600402832\n",
            "\n",
            "Best val_accuracy So Far: 0.947826087474823\n",
            "Total elapsed time: 00h 05m 23s\n"
          ]
        }
      ]
    },
    {
      "cell_type": "code",
      "source": [
        "tuned_model=tuner_search.get_best_models(num_models=1)[0]"
      ],
      "metadata": {
        "id": "bi9L7CG0FjE6"
      },
      "execution_count": 23,
      "outputs": []
    },
    {
      "cell_type": "code",
      "source": [
        "tuned_model.summary()"
      ],
      "metadata": {
        "colab": {
          "base_uri": "https://localhost:8080/"
        },
        "id": "hiyVtLswFjHd",
        "outputId": "44dc13d5-6c85-4198-c341-d507b05e0af6"
      },
      "execution_count": 24,
      "outputs": [
        {
          "output_type": "stream",
          "name": "stdout",
          "text": [
            "Model: \"sequential\"\n",
            "_________________________________________________________________\n",
            " Layer (type)                Output Shape              Param #   \n",
            "=================================================================\n",
            " conv2d (Conv2D)             (None, 62, 62, 48)        1344      \n",
            "                                                                 \n",
            " max_pooling2d (MaxPooling2D  (None, 31, 31, 48)       0         \n",
            " )                                                               \n",
            "                                                                 \n",
            " conv2d_1 (Conv2D)           (None, 27, 27, 112)       134512    \n",
            "                                                                 \n",
            " max_pooling2d_1 (MaxPooling  (None, 13, 13, 112)      0         \n",
            " 2D)                                                             \n",
            "                                                                 \n",
            " conv2d_2 (Conv2D)           (None, 11, 11, 64)        64576     \n",
            "                                                                 \n",
            " flatten (Flatten)           (None, 7744)              0         \n",
            "                                                                 \n",
            " dense (Dense)               (None, 64)                495680    \n",
            "                                                                 \n",
            " dense_1 (Dense)             (None, 2)                 130       \n",
            "                                                                 \n",
            "=================================================================\n",
            "Total params: 696,242\n",
            "Trainable params: 696,242\n",
            "Non-trainable params: 0\n",
            "_________________________________________________________________\n"
          ]
        }
      ]
    },
    {
      "cell_type": "code",
      "source": [],
      "metadata": {
        "id": "M0EmA_QxFjJ1"
      },
      "execution_count": null,
      "outputs": []
    },
    {
      "cell_type": "code",
      "source": [],
      "metadata": {
        "id": "PwUoy_kSSj5O"
      },
      "execution_count": 16,
      "outputs": []
    }
  ]
}